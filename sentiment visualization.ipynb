{
 "cells": [
  {
   "cell_type": "code",
   "execution_count": 1,
   "metadata": {},
   "outputs": [],
   "source": [
    "import pandas as pd\n",
    "import numpy as np\n",
    "import matplotlib.pyplot as plt\n",
    "from pathlib import Path\n",
    "from missingno import matrix"
   ]
  },
  {
   "cell_type": "code",
   "execution_count": 2,
   "metadata": {},
   "outputs": [],
   "source": [
    "DATA_PATH = Path() / \"data\"\n",
    "DATA_PATH.mkdir(parents=True,exist_ok=True)\n",
    "\n",
    "def load_data(filename, data_path=DATA_PATH,encoding='ISO-8859-1'):\n",
    "    csv_path = data_path / filename\n",
    "    return pd.read_csv(csv_path,encoding=encoding)\n",
    "\n",
    "def save_data(data, filename, data_path=DATA_PATH,encoding='ISO-8859-1'):\n",
    "    csv_path = data_path / filename\n",
    "    data.to_csv(csv_path, index=False,encoding='ISO-8859-1')\n",
    "\n",
    "PLOT_PATH = Path() / \"plot\"\n",
    "PLOT_PATH.mkdir(parents=True,exist_ok=True)\n",
    "\n",
    "def save_fig(fig_id, tight_layout=True, fig_extension=\"png\", resolution=300):\n",
    "    path = PLOT_PATH / f\"{fig_id}.{fig_extension}\"\n",
    "    print(\"Saving figure\", fig_id)\n",
    "    if tight_layout:\n",
    "        plt.tight_layout()\n",
    "    plt.savefig(path, format=fig_extension, dpi=resolution)"
   ]
  },
  {
   "cell_type": "code",
   "execution_count": 3,
   "metadata": {},
   "outputs": [
    {
     "data": {
      "text/html": [
       "<div>\n",
       "<style scoped>\n",
       "    .dataframe tbody tr th:only-of-type {\n",
       "        vertical-align: middle;\n",
       "    }\n",
       "\n",
       "    .dataframe tbody tr th {\n",
       "        vertical-align: top;\n",
       "    }\n",
       "\n",
       "    .dataframe thead th {\n",
       "        text-align: right;\n",
       "    }\n",
       "</style>\n",
       "<table border=\"1\" class=\"dataframe\">\n",
       "  <thead>\n",
       "    <tr style=\"text-align: right;\">\n",
       "      <th></th>\n",
       "      <th>reviewer_id</th>\n",
       "      <th>store_name</th>\n",
       "      <th>category</th>\n",
       "      <th>store_address</th>\n",
       "      <th>latitude</th>\n",
       "      <th>longitude</th>\n",
       "      <th>rating_count</th>\n",
       "      <th>review_time</th>\n",
       "      <th>review</th>\n",
       "      <th>rating</th>\n",
       "      <th>processed_review_basic</th>\n",
       "      <th>rating_numeric</th>\n",
       "      <th>rating_numerical</th>\n",
       "      <th>state</th>\n",
       "      <th>Topic</th>\n",
       "      <th>Sentiment</th>\n",
       "      <th>Sentiment_Category</th>\n",
       "    </tr>\n",
       "  </thead>\n",
       "  <tbody>\n",
       "    <tr>\n",
       "      <th>0</th>\n",
       "      <td>29732</td>\n",
       "      <td>McDonald's</td>\n",
       "      <td>Fast food restaurant</td>\n",
       "      <td>1415 E State Rd, Fern Park, FL 32730, United S...</td>\n",
       "      <td>28.655350</td>\n",
       "      <td>-81.342692</td>\n",
       "      <td>1,618</td>\n",
       "      <td>3 years ago</td>\n",
       "      <td>Neutral</td>\n",
       "      <td>3 stars</td>\n",
       "      <td>neutral</td>\n",
       "      <td>3</td>\n",
       "      <td>3.0</td>\n",
       "      <td>FL</td>\n",
       "      <td>1</td>\n",
       "      <td>0.0000</td>\n",
       "      <td>neutral</td>\n",
       "    </tr>\n",
       "    <tr>\n",
       "      <th>1</th>\n",
       "      <td>32175</td>\n",
       "      <td>McDonald's</td>\n",
       "      <td>Fast food restaurant</td>\n",
       "      <td>632 S R L Thornton Freeway Service Rd, Dallas,...</td>\n",
       "      <td>32.744596</td>\n",
       "      <td>-96.812286</td>\n",
       "      <td>2,658</td>\n",
       "      <td>4 years ago</td>\n",
       "      <td>Nice</td>\n",
       "      <td>4 stars</td>\n",
       "      <td>nice</td>\n",
       "      <td>4</td>\n",
       "      <td>4.0</td>\n",
       "      <td>TX</td>\n",
       "      <td>5</td>\n",
       "      <td>0.6000</td>\n",
       "      <td>positive</td>\n",
       "    </tr>\n",
       "    <tr>\n",
       "      <th>2</th>\n",
       "      <td>17293</td>\n",
       "      <td>McDonald's</td>\n",
       "      <td>Fast food restaurant</td>\n",
       "      <td>702-2 Haddonfield-Berlin Rd, Voorhees Township...</td>\n",
       "      <td>39.852059</td>\n",
       "      <td>-74.981099</td>\n",
       "      <td>933</td>\n",
       "      <td>a year ago</td>\n",
       "      <td>These are the slowest off-task workers I've ev...</td>\n",
       "      <td>1 star</td>\n",
       "      <td>slowest task worker i've ever seen. stop multi...</td>\n",
       "      <td>1</td>\n",
       "      <td>1.0</td>\n",
       "      <td>NJ</td>\n",
       "      <td>3</td>\n",
       "      <td>0.0000</td>\n",
       "      <td>neutral</td>\n",
       "    </tr>\n",
       "    <tr>\n",
       "      <th>3</th>\n",
       "      <td>13768</td>\n",
       "      <td>McDonald's</td>\n",
       "      <td>Fast food restaurant</td>\n",
       "      <td>6875 Sand Lake Rd, Orlando, FL 32819, United S...</td>\n",
       "      <td>28.450387</td>\n",
       "      <td>-81.471414</td>\n",
       "      <td>19,671</td>\n",
       "      <td>3 months ago</td>\n",
       "      <td>This McDonaldï¿½ï¿½ï¿½ï¿½ï¿½ï¿½ï¿½ï¿½ï¿½ï¿½ï¿½...</td>\n",
       "      <td>2 stars</td>\n",
       "      <td>mcdonald unique pasta pizza bar arcade upstair...</td>\n",
       "      <td>2</td>\n",
       "      <td>2.0</td>\n",
       "      <td>FL</td>\n",
       "      <td>7</td>\n",
       "      <td>0.3125</td>\n",
       "      <td>positive</td>\n",
       "    </tr>\n",
       "    <tr>\n",
       "      <th>4</th>\n",
       "      <td>25283</td>\n",
       "      <td>McDonald's</td>\n",
       "      <td>Fast food restaurant</td>\n",
       "      <td>7010 Bradlick Shopping Center, Annandale, VA 2...</td>\n",
       "      <td>38.812823</td>\n",
       "      <td>-77.185055</td>\n",
       "      <td>595</td>\n",
       "      <td>5 years ago</td>\n",
       "      <td>Terrible</td>\n",
       "      <td>1 star</td>\n",
       "      <td>terrible</td>\n",
       "      <td>1</td>\n",
       "      <td>1.0</td>\n",
       "      <td>VA</td>\n",
       "      <td>4</td>\n",
       "      <td>-1.0000</td>\n",
       "      <td>negative</td>\n",
       "    </tr>\n",
       "    <tr>\n",
       "      <th>...</th>\n",
       "      <td>...</td>\n",
       "      <td>...</td>\n",
       "      <td>...</td>\n",
       "      <td>...</td>\n",
       "      <td>...</td>\n",
       "      <td>...</td>\n",
       "      <td>...</td>\n",
       "      <td>...</td>\n",
       "      <td>...</td>\n",
       "      <td>...</td>\n",
       "      <td>...</td>\n",
       "      <td>...</td>\n",
       "      <td>...</td>\n",
       "      <td>...</td>\n",
       "      <td>...</td>\n",
       "      <td>...</td>\n",
       "      <td>...</td>\n",
       "    </tr>\n",
       "    <tr>\n",
       "      <th>3260</th>\n",
       "      <td>7121</td>\n",
       "      <td>McDonald's</td>\n",
       "      <td>Fast food restaurant</td>\n",
       "      <td>550 Lawrence Expy, Sunnyvale, CA 94086, United...</td>\n",
       "      <td>37.385495</td>\n",
       "      <td>-121.995421</td>\n",
       "      <td>1,562</td>\n",
       "      <td>a year ago</td>\n",
       "      <td>Like always very pleasing but the area outdoor...</td>\n",
       "      <td>3 stars</td>\n",
       "      <td>like always pleasing area outdoor use tidying....</td>\n",
       "      <td>3</td>\n",
       "      <td>3.0</td>\n",
       "      <td>CA</td>\n",
       "      <td>1</td>\n",
       "      <td>0.8000</td>\n",
       "      <td>positive</td>\n",
       "    </tr>\n",
       "    <tr>\n",
       "      <th>3261</th>\n",
       "      <td>14963</td>\n",
       "      <td>McDonald's</td>\n",
       "      <td>Fast food restaurant</td>\n",
       "      <td>111 Madison St, Oak Park, IL 60302, United States</td>\n",
       "      <td>41.879656</td>\n",
       "      <td>-87.777913</td>\n",
       "      <td>1,454</td>\n",
       "      <td>5 years ago</td>\n",
       "      <td>Jus go 4 the drinks im 35 out grown the food</td>\n",
       "      <td>3 stars</td>\n",
       "      <td>jus go 4 drink im 35 grown food</td>\n",
       "      <td>3</td>\n",
       "      <td>3.0</td>\n",
       "      <td>IL</td>\n",
       "      <td>6</td>\n",
       "      <td>0.0000</td>\n",
       "      <td>neutral</td>\n",
       "    </tr>\n",
       "    <tr>\n",
       "      <th>3262</th>\n",
       "      <td>9685</td>\n",
       "      <td>McDonald's</td>\n",
       "      <td>Fast food restaurant</td>\n",
       "      <td>1916 M St NW, Washington, DC 20036, United States</td>\n",
       "      <td>38.905456</td>\n",
       "      <td>-77.044235</td>\n",
       "      <td>1,269</td>\n",
       "      <td>3 years ago</td>\n",
       "      <td>The Service is Excellent</td>\n",
       "      <td>5 stars</td>\n",
       "      <td>service excellent</td>\n",
       "      <td>5</td>\n",
       "      <td>5.0</td>\n",
       "      <td>DC</td>\n",
       "      <td>6</td>\n",
       "      <td>1.0000</td>\n",
       "      <td>positive</td>\n",
       "    </tr>\n",
       "    <tr>\n",
       "      <th>3263</th>\n",
       "      <td>19282</td>\n",
       "      <td>McDonald's</td>\n",
       "      <td>Fast food restaurant</td>\n",
       "      <td>621 Broadway, Newark, NJ 07104, United States</td>\n",
       "      <td>40.771910</td>\n",
       "      <td>-74.161475</td>\n",
       "      <td>1,564</td>\n",
       "      <td>2 years ago</td>\n",
       "      <td>I go to mc Donald only drive through and my fr...</td>\n",
       "      <td>3 stars</td>\n",
       "      <td>go mc donald drive friend took burger king tru...</td>\n",
       "      <td>3</td>\n",
       "      <td>3.0</td>\n",
       "      <td>NJ</td>\n",
       "      <td>0</td>\n",
       "      <td>0.1000</td>\n",
       "      <td>positive</td>\n",
       "    </tr>\n",
       "    <tr>\n",
       "      <th>3264</th>\n",
       "      <td>19237</td>\n",
       "      <td>McDonald's</td>\n",
       "      <td>Fast food restaurant</td>\n",
       "      <td>621 Broadway, Newark, NJ 07104, United States</td>\n",
       "      <td>40.771910</td>\n",
       "      <td>-74.161475</td>\n",
       "      <td>1,564</td>\n",
       "      <td>a year ago</td>\n",
       "      <td>Welcome to the worst McDonald in north Newark....</td>\n",
       "      <td>1 star</td>\n",
       "      <td>welcome worst mcdonald north newark. ordered b...</td>\n",
       "      <td>1</td>\n",
       "      <td>1.0</td>\n",
       "      <td>NJ</td>\n",
       "      <td>3</td>\n",
       "      <td>-0.0500</td>\n",
       "      <td>neutral</td>\n",
       "    </tr>\n",
       "  </tbody>\n",
       "</table>\n",
       "<p>3265 rows × 17 columns</p>\n",
       "</div>"
      ],
      "text/plain": [
       "      reviewer_id  store_name              category  \\\n",
       "0           29732  McDonald's  Fast food restaurant   \n",
       "1           32175  McDonald's  Fast food restaurant   \n",
       "2           17293  McDonald's  Fast food restaurant   \n",
       "3           13768  McDonald's  Fast food restaurant   \n",
       "4           25283  McDonald's  Fast food restaurant   \n",
       "...           ...         ...                   ...   \n",
       "3260         7121  McDonald's  Fast food restaurant   \n",
       "3261        14963  McDonald's  Fast food restaurant   \n",
       "3262         9685  McDonald's  Fast food restaurant   \n",
       "3263        19282  McDonald's  Fast food restaurant   \n",
       "3264        19237  McDonald's  Fast food restaurant   \n",
       "\n",
       "                                          store_address   latitude  \\\n",
       "0     1415 E State Rd, Fern Park, FL 32730, United S...  28.655350   \n",
       "1     632 S R L Thornton Freeway Service Rd, Dallas,...  32.744596   \n",
       "2     702-2 Haddonfield-Berlin Rd, Voorhees Township...  39.852059   \n",
       "3     6875 Sand Lake Rd, Orlando, FL 32819, United S...  28.450387   \n",
       "4     7010 Bradlick Shopping Center, Annandale, VA 2...  38.812823   \n",
       "...                                                 ...        ...   \n",
       "3260  550 Lawrence Expy, Sunnyvale, CA 94086, United...  37.385495   \n",
       "3261  111 Madison St, Oak Park, IL 60302, United States  41.879656   \n",
       "3262  1916 M St NW, Washington, DC 20036, United States  38.905456   \n",
       "3263      621 Broadway, Newark, NJ 07104, United States  40.771910   \n",
       "3264      621 Broadway, Newark, NJ 07104, United States  40.771910   \n",
       "\n",
       "       longitude rating_count   review_time  \\\n",
       "0     -81.342692        1,618   3 years ago   \n",
       "1     -96.812286        2,658   4 years ago   \n",
       "2     -74.981099          933    a year ago   \n",
       "3     -81.471414       19,671  3 months ago   \n",
       "4     -77.185055          595   5 years ago   \n",
       "...          ...          ...           ...   \n",
       "3260 -121.995421        1,562    a year ago   \n",
       "3261  -87.777913        1,454   5 years ago   \n",
       "3262  -77.044235        1,269   3 years ago   \n",
       "3263  -74.161475        1,564   2 years ago   \n",
       "3264  -74.161475        1,564    a year ago   \n",
       "\n",
       "                                                 review   rating  \\\n",
       "0                                               Neutral  3 stars   \n",
       "1                                                  Nice  4 stars   \n",
       "2     These are the slowest off-task workers I've ev...   1 star   \n",
       "3     This McDonaldï¿½ï¿½ï¿½ï¿½ï¿½ï¿½ï¿½ï¿½ï¿½ï¿½ï¿½...  2 stars   \n",
       "4                                              Terrible   1 star   \n",
       "...                                                 ...      ...   \n",
       "3260  Like always very pleasing but the area outdoor...  3 stars   \n",
       "3261       Jus go 4 the drinks im 35 out grown the food  3 stars   \n",
       "3262                           The Service is Excellent  5 stars   \n",
       "3263  I go to mc Donald only drive through and my fr...  3 stars   \n",
       "3264  Welcome to the worst McDonald in north Newark....   1 star   \n",
       "\n",
       "                                 processed_review_basic  rating_numeric  \\\n",
       "0                                               neutral               3   \n",
       "1                                                  nice               4   \n",
       "2     slowest task worker i've ever seen. stop multi...               1   \n",
       "3     mcdonald unique pasta pizza bar arcade upstair...               2   \n",
       "4                                              terrible               1   \n",
       "...                                                 ...             ...   \n",
       "3260  like always pleasing area outdoor use tidying....               3   \n",
       "3261                    jus go 4 drink im 35 grown food               3   \n",
       "3262                                  service excellent               5   \n",
       "3263  go mc donald drive friend took burger king tru...               3   \n",
       "3264  welcome worst mcdonald north newark. ordered b...               1   \n",
       "\n",
       "      rating_numerical state  Topic  Sentiment Sentiment_Category  \n",
       "0                  3.0    FL      1     0.0000            neutral  \n",
       "1                  4.0    TX      5     0.6000           positive  \n",
       "2                  1.0    NJ      3     0.0000            neutral  \n",
       "3                  2.0    FL      7     0.3125           positive  \n",
       "4                  1.0    VA      4    -1.0000           negative  \n",
       "...                ...   ...    ...        ...                ...  \n",
       "3260               3.0    CA      1     0.8000           positive  \n",
       "3261               3.0    IL      6     0.0000            neutral  \n",
       "3262               5.0    DC      6     1.0000           positive  \n",
       "3263               3.0    NJ      0     0.1000           positive  \n",
       "3264               1.0    NJ      3    -0.0500            neutral  \n",
       "\n",
       "[3265 rows x 17 columns]"
      ]
     },
     "execution_count": 3,
     "metadata": {},
     "output_type": "execute_result"
    }
   ],
   "source": [
    "data = load_data(\"McDonald_s_Reviews_Cleaned_Classified_Sentiment.csv\")\n",
    "data"
   ]
  },
  {
   "cell_type": "code",
   "execution_count": 4,
   "metadata": {},
   "outputs": [
    {
     "data": {
      "text/html": [
       "<div>\n",
       "<style scoped>\n",
       "    .dataframe tbody tr th:only-of-type {\n",
       "        vertical-align: middle;\n",
       "    }\n",
       "\n",
       "    .dataframe tbody tr th {\n",
       "        vertical-align: top;\n",
       "    }\n",
       "\n",
       "    .dataframe thead th {\n",
       "        text-align: right;\n",
       "    }\n",
       "</style>\n",
       "<table border=\"1\" class=\"dataframe\">\n",
       "  <thead>\n",
       "    <tr style=\"text-align: right;\">\n",
       "      <th></th>\n",
       "      <th>Store Address</th>\n",
       "      <th>Average Sentiment Score</th>\n",
       "      <th>Average Rate</th>\n",
       "      <th>Rank</th>\n",
       "    </tr>\n",
       "  </thead>\n",
       "  <tbody>\n",
       "    <tr>\n",
       "      <th>29</th>\n",
       "      <td>7010 Bradlick Shopping Center, Annandale, VA 2...</td>\n",
       "      <td>0.484544</td>\n",
       "      <td>3.932203</td>\n",
       "      <td>1.0</td>\n",
       "    </tr>\n",
       "    <tr>\n",
       "      <th>30</th>\n",
       "      <td>702-2 Haddonfield-Berlin Rd, Voorhees Township...</td>\n",
       "      <td>0.462471</td>\n",
       "      <td>3.836735</td>\n",
       "      <td>2.0</td>\n",
       "    </tr>\n",
       "    <tr>\n",
       "      <th>24</th>\n",
       "      <td>5920 Balboa Ave, San Diego, CA 92111, United S...</td>\n",
       "      <td>0.460735</td>\n",
       "      <td>3.843137</td>\n",
       "      <td>3.0</td>\n",
       "    </tr>\n",
       "    <tr>\n",
       "      <th>2</th>\n",
       "      <td>1100 N US Hwy 377, Roanoke, TX 76262, United S...</td>\n",
       "      <td>0.352566</td>\n",
       "      <td>3.559701</td>\n",
       "      <td>4.0</td>\n",
       "    </tr>\n",
       "    <tr>\n",
       "      <th>10</th>\n",
       "      <td>160 Broadway, New York, NY 10038, United States</td>\n",
       "      <td>0.339286</td>\n",
       "      <td>5.000000</td>\n",
       "      <td>5.0</td>\n",
       "    </tr>\n",
       "    <tr>\n",
       "      <th>19</th>\n",
       "      <td>429 7th Ave, New York, NY 10001, United States</td>\n",
       "      <td>0.334202</td>\n",
       "      <td>3.539823</td>\n",
       "      <td>6.0</td>\n",
       "    </tr>\n",
       "    <tr>\n",
       "      <th>3</th>\n",
       "      <td>111 Madison St, Oak Park, IL 60302, United States</td>\n",
       "      <td>0.287101</td>\n",
       "      <td>3.583333</td>\n",
       "      <td>7.0</td>\n",
       "    </tr>\n",
       "    <tr>\n",
       "      <th>12</th>\n",
       "      <td>1698 US-209, Brodheadsville, PA 18322, United ...</td>\n",
       "      <td>0.279005</td>\n",
       "      <td>3.333333</td>\n",
       "      <td>8.0</td>\n",
       "    </tr>\n",
       "    <tr>\n",
       "      <th>15</th>\n",
       "      <td>2400 Alliance Gateway Fwy, Fort Worth, TX 7617...</td>\n",
       "      <td>0.274331</td>\n",
       "      <td>3.252747</td>\n",
       "      <td>9.0</td>\n",
       "    </tr>\n",
       "    <tr>\n",
       "      <th>31</th>\n",
       "      <td>72-69 Kissena Blvd, Queens, NY 11367, United S...</td>\n",
       "      <td>0.257123</td>\n",
       "      <td>3.609524</td>\n",
       "      <td>10.0</td>\n",
       "    </tr>\n",
       "    <tr>\n",
       "      <th>6</th>\n",
       "      <td>13749 US-183 Hwy, Austin, TX 78750, United States</td>\n",
       "      <td>0.227859</td>\n",
       "      <td>3.402778</td>\n",
       "      <td>11.0</td>\n",
       "    </tr>\n",
       "    <tr>\n",
       "      <th>7</th>\n",
       "      <td>1415 E State Rd, Fern Park, FL 32730, United S...</td>\n",
       "      <td>0.224540</td>\n",
       "      <td>3.429448</td>\n",
       "      <td>12.0</td>\n",
       "    </tr>\n",
       "    <tr>\n",
       "      <th>1</th>\n",
       "      <td>10901 Riverside Dr, North Hollywood, CA 91602,...</td>\n",
       "      <td>0.221610</td>\n",
       "      <td>3.428571</td>\n",
       "      <td>13.0</td>\n",
       "    </tr>\n",
       "    <tr>\n",
       "      <th>0</th>\n",
       "      <td>1044 US-11, Champlain, NY 12919, United States</td>\n",
       "      <td>0.212723</td>\n",
       "      <td>3.500000</td>\n",
       "      <td>14.0</td>\n",
       "    </tr>\n",
       "    <tr>\n",
       "      <th>22</th>\n",
       "      <td>550 Lawrence Expy, Sunnyvale, CA 94086, United...</td>\n",
       "      <td>0.210839</td>\n",
       "      <td>3.172840</td>\n",
       "      <td>15.0</td>\n",
       "    </tr>\n",
       "    <tr>\n",
       "      <th>13</th>\n",
       "      <td>1916 M St NW, Washington, DC 20036, United States</td>\n",
       "      <td>0.202164</td>\n",
       "      <td>3.268657</td>\n",
       "      <td>16.0</td>\n",
       "    </tr>\n",
       "    <tr>\n",
       "      <th>5</th>\n",
       "      <td>11382 US-441, Orlando, FL 32837, United States</td>\n",
       "      <td>0.195460</td>\n",
       "      <td>3.354839</td>\n",
       "      <td>17.0</td>\n",
       "    </tr>\n",
       "    <tr>\n",
       "      <th>28</th>\n",
       "      <td>690 Alameda St, Los Angeles, CA 90021, United ...</td>\n",
       "      <td>0.186344</td>\n",
       "      <td>3.070175</td>\n",
       "      <td>18.0</td>\n",
       "    </tr>\n",
       "    <tr>\n",
       "      <th>25</th>\n",
       "      <td>621 Broadway, Newark, NJ 07104, United States</td>\n",
       "      <td>0.166721</td>\n",
       "      <td>2.992958</td>\n",
       "      <td>19.0</td>\n",
       "    </tr>\n",
       "    <tr>\n",
       "      <th>32</th>\n",
       "      <td>724 Broadway, New York, NY 10003, United States</td>\n",
       "      <td>0.161928</td>\n",
       "      <td>3.157480</td>\n",
       "      <td>20.0</td>\n",
       "    </tr>\n",
       "    <tr>\n",
       "      <th>26</th>\n",
       "      <td>632 S R L Thornton Freeway Service Rd, Dallas,...</td>\n",
       "      <td>0.158006</td>\n",
       "      <td>3.058480</td>\n",
       "      <td>21.0</td>\n",
       "    </tr>\n",
       "    <tr>\n",
       "      <th>27</th>\n",
       "      <td>6875 Sand Lake Rd, Orlando, FL 32819, United S...</td>\n",
       "      <td>0.157324</td>\n",
       "      <td>3.500000</td>\n",
       "      <td>22.0</td>\n",
       "    </tr>\n",
       "    <tr>\n",
       "      <th>9</th>\n",
       "      <td>1540 2nd St, Santa Monica, CA 90405, United St...</td>\n",
       "      <td>0.152772</td>\n",
       "      <td>3.325843</td>\n",
       "      <td>23.0</td>\n",
       "    </tr>\n",
       "    <tr>\n",
       "      <th>20</th>\n",
       "      <td>490 8th Ave, New York, NY 10001, United States</td>\n",
       "      <td>0.144718</td>\n",
       "      <td>3.025000</td>\n",
       "      <td>24.0</td>\n",
       "    </tr>\n",
       "    <tr>\n",
       "      <th>17</th>\n",
       "      <td>262 Canal St, New York, NY 10013, United States</td>\n",
       "      <td>0.141196</td>\n",
       "      <td>3.000000</td>\n",
       "      <td>25.0</td>\n",
       "    </tr>\n",
       "    <tr>\n",
       "      <th>4</th>\n",
       "      <td>1121 Garnet Ave, San Diego, CA 92109, United S...</td>\n",
       "      <td>0.109919</td>\n",
       "      <td>2.919355</td>\n",
       "      <td>26.0</td>\n",
       "    </tr>\n",
       "    <tr>\n",
       "      <th>33</th>\n",
       "      <td>8500 US-290, Austin, TX 78724, United States</td>\n",
       "      <td>0.100069</td>\n",
       "      <td>2.546512</td>\n",
       "      <td>27.0</td>\n",
       "    </tr>\n",
       "    <tr>\n",
       "      <th>16</th>\n",
       "      <td>25200 I-10 Lot 2, San Antonio, TX 78257, Unite...</td>\n",
       "      <td>0.098610</td>\n",
       "      <td>3.028169</td>\n",
       "      <td>28.0</td>\n",
       "    </tr>\n",
       "    <tr>\n",
       "      <th>23</th>\n",
       "      <td>5725 W Irlo Bronson Memorial Hwy, Kissimmee, F...</td>\n",
       "      <td>0.086481</td>\n",
       "      <td>2.783920</td>\n",
       "      <td>29.0</td>\n",
       "    </tr>\n",
       "    <tr>\n",
       "      <th>14</th>\n",
       "      <td>210 5th S, Salt Lake City, UT 84106, United St...</td>\n",
       "      <td>0.083113</td>\n",
       "      <td>2.750000</td>\n",
       "      <td>30.0</td>\n",
       "    </tr>\n",
       "    <tr>\n",
       "      <th>34</th>\n",
       "      <td>9814 International Dr, Orlando, FL 32819, Unit...</td>\n",
       "      <td>0.062058</td>\n",
       "      <td>2.538961</td>\n",
       "      <td>31.0</td>\n",
       "    </tr>\n",
       "    <tr>\n",
       "      <th>21</th>\n",
       "      <td>501 W Imperial Hwy, Los Angeles, CA 90044, Uni...</td>\n",
       "      <td>0.026710</td>\n",
       "      <td>2.322581</td>\n",
       "      <td>32.0</td>\n",
       "    </tr>\n",
       "    <tr>\n",
       "      <th>35</th>\n",
       "      <td>By Mandalay Bay, 3999 S Las Vegas Blvd, Las Ve...</td>\n",
       "      <td>0.015352</td>\n",
       "      <td>2.621053</td>\n",
       "      <td>33.0</td>\n",
       "    </tr>\n",
       "    <tr>\n",
       "      <th>18</th>\n",
       "      <td>3501 Biscayne Blvd, Miami, FL 33137, United St...</td>\n",
       "      <td>-0.008972</td>\n",
       "      <td>2.598684</td>\n",
       "      <td>34.0</td>\n",
       "    </tr>\n",
       "    <tr>\n",
       "      <th>8</th>\n",
       "      <td>151 West 34th Street (Macy's 7th Floor, New Yo...</td>\n",
       "      <td>-0.029194</td>\n",
       "      <td>2.000000</td>\n",
       "      <td>35.0</td>\n",
       "    </tr>\n",
       "    <tr>\n",
       "      <th>11</th>\n",
       "      <td>1650 Washington Ave, Miami Beach, FL 33139, Un...</td>\n",
       "      <td>-0.118251</td>\n",
       "      <td>1.596491</td>\n",
       "      <td>36.0</td>\n",
       "    </tr>\n",
       "  </tbody>\n",
       "</table>\n",
       "</div>"
      ],
      "text/plain": [
       "                                        Store Address  \\\n",
       "29  7010 Bradlick Shopping Center, Annandale, VA 2...   \n",
       "30  702-2 Haddonfield-Berlin Rd, Voorhees Township...   \n",
       "24  5920 Balboa Ave, San Diego, CA 92111, United S...   \n",
       "2   1100 N US Hwy 377, Roanoke, TX 76262, United S...   \n",
       "10    160 Broadway, New York, NY 10038, United States   \n",
       "19     429 7th Ave, New York, NY 10001, United States   \n",
       "3   111 Madison St, Oak Park, IL 60302, United States   \n",
       "12  1698 US-209, Brodheadsville, PA 18322, United ...   \n",
       "15  2400 Alliance Gateway Fwy, Fort Worth, TX 7617...   \n",
       "31  72-69 Kissena Blvd, Queens, NY 11367, United S...   \n",
       "6   13749 US-183 Hwy, Austin, TX 78750, United States   \n",
       "7   1415 E State Rd, Fern Park, FL 32730, United S...   \n",
       "1   10901 Riverside Dr, North Hollywood, CA 91602,...   \n",
       "0      1044 US-11, Champlain, NY 12919, United States   \n",
       "22  550 Lawrence Expy, Sunnyvale, CA 94086, United...   \n",
       "13  1916 M St NW, Washington, DC 20036, United States   \n",
       "5      11382 US-441, Orlando, FL 32837, United States   \n",
       "28  690 Alameda St, Los Angeles, CA 90021, United ...   \n",
       "25      621 Broadway, Newark, NJ 07104, United States   \n",
       "32    724 Broadway, New York, NY 10003, United States   \n",
       "26  632 S R L Thornton Freeway Service Rd, Dallas,...   \n",
       "27  6875 Sand Lake Rd, Orlando, FL 32819, United S...   \n",
       "9   1540 2nd St, Santa Monica, CA 90405, United St...   \n",
       "20     490 8th Ave, New York, NY 10001, United States   \n",
       "17    262 Canal St, New York, NY 10013, United States   \n",
       "4   1121 Garnet Ave, San Diego, CA 92109, United S...   \n",
       "33       8500 US-290, Austin, TX 78724, United States   \n",
       "16  25200 I-10 Lot 2, San Antonio, TX 78257, Unite...   \n",
       "23  5725 W Irlo Bronson Memorial Hwy, Kissimmee, F...   \n",
       "14  210 5th S, Salt Lake City, UT 84106, United St...   \n",
       "34  9814 International Dr, Orlando, FL 32819, Unit...   \n",
       "21  501 W Imperial Hwy, Los Angeles, CA 90044, Uni...   \n",
       "35  By Mandalay Bay, 3999 S Las Vegas Blvd, Las Ve...   \n",
       "18  3501 Biscayne Blvd, Miami, FL 33137, United St...   \n",
       "8   151 West 34th Street (Macy's 7th Floor, New Yo...   \n",
       "11  1650 Washington Ave, Miami Beach, FL 33139, Un...   \n",
       "\n",
       "    Average Sentiment Score  Average Rate  Rank  \n",
       "29                 0.484544      3.932203   1.0  \n",
       "30                 0.462471      3.836735   2.0  \n",
       "24                 0.460735      3.843137   3.0  \n",
       "2                  0.352566      3.559701   4.0  \n",
       "10                 0.339286      5.000000   5.0  \n",
       "19                 0.334202      3.539823   6.0  \n",
       "3                  0.287101      3.583333   7.0  \n",
       "12                 0.279005      3.333333   8.0  \n",
       "15                 0.274331      3.252747   9.0  \n",
       "31                 0.257123      3.609524  10.0  \n",
       "6                  0.227859      3.402778  11.0  \n",
       "7                  0.224540      3.429448  12.0  \n",
       "1                  0.221610      3.428571  13.0  \n",
       "0                  0.212723      3.500000  14.0  \n",
       "22                 0.210839      3.172840  15.0  \n",
       "13                 0.202164      3.268657  16.0  \n",
       "5                  0.195460      3.354839  17.0  \n",
       "28                 0.186344      3.070175  18.0  \n",
       "25                 0.166721      2.992958  19.0  \n",
       "32                 0.161928      3.157480  20.0  \n",
       "26                 0.158006      3.058480  21.0  \n",
       "27                 0.157324      3.500000  22.0  \n",
       "9                  0.152772      3.325843  23.0  \n",
       "20                 0.144718      3.025000  24.0  \n",
       "17                 0.141196      3.000000  25.0  \n",
       "4                  0.109919      2.919355  26.0  \n",
       "33                 0.100069      2.546512  27.0  \n",
       "16                 0.098610      3.028169  28.0  \n",
       "23                 0.086481      2.783920  29.0  \n",
       "14                 0.083113      2.750000  30.0  \n",
       "34                 0.062058      2.538961  31.0  \n",
       "21                 0.026710      2.322581  32.0  \n",
       "35                 0.015352      2.621053  33.0  \n",
       "18                -0.008972      2.598684  34.0  \n",
       "8                 -0.029194      2.000000  35.0  \n",
       "11                -0.118251      1.596491  36.0  "
      ]
     },
     "execution_count": 4,
     "metadata": {},
     "output_type": "execute_result"
    }
   ],
   "source": [
    "# Assuming 'store_address' is a column in your dataset\n",
    "grouped = data.groupby('store_address', as_index=False)  # Keep 'store_address' as a column\n",
    "\n",
    "# Calculate averages\n",
    "average_scores = grouped['Sentiment'].mean()\n",
    "average_rates = grouped['rating_numerical'].mean()\n",
    "\n",
    "# Combine averages into a new DataFrame\n",
    "averages_df = pd.DataFrame({\n",
    "    'Store Address': average_scores['store_address'],  # Directly use 'store_address' from the grouped object\n",
    "    'Average Sentiment Score': average_scores['Sentiment'],\n",
    "    'Average Rate': average_rates['rating_numerical']\n",
    "})\n",
    "\n",
    "# Rank the stores by 'Average Sentiment Score' and add a 'Rank' column\n",
    "averages_df['Rank'] = averages_df['Average Sentiment Score'].rank(ascending=False, method='max')\n",
    "\n",
    "# Sort the DataFrame by the 'Rank' column to get the sequence based on sentiment score\n",
    "averages_df = averages_df.sort_values(by='Rank')\n",
    "\n",
    "# Show the DataFrame\n",
    "averages_df\n"
   ]
  },
  {
   "cell_type": "code",
   "execution_count": 5,
   "metadata": {},
   "outputs": [],
   "source": [
    "# Export to CSV\n",
    "save_data(averages_df, \"McDonald_s_Reviews_Averages.csv\")\n"
   ]
  },
  {
   "cell_type": "code",
   "execution_count": 6,
   "metadata": {},
   "outputs": [
    {
     "data": {
      "text/plain": [
       "[('good', 40),\n",
       " ('food', 32),\n",
       " ('service', 22),\n",
       " ('mcdonald', 22),\n",
       " ('excellent', 17),\n",
       " ('drive', 16),\n",
       " ('customer', 15),\n",
       " ('time', 15),\n",
       " ('nugget', 13),\n",
       " ('order', 11)]"
      ]
     },
     "execution_count": 6,
     "metadata": {},
     "output_type": "execute_result"
    }
   ],
   "source": [
    "import spacy\n",
    "from collections import defaultdict\n",
    "from spacy.lang.en.stop_words import STOP_WORDS\n",
    "\n",
    "# Load Spacy's English tokenizer, tagger, parser, NER, and word vectors\n",
    "nlp = spacy.load(\"en_core_web_sm\")\n",
    "\n",
    "# Initialize a dictionary to hold word counts for each store\n",
    "word_counts_by_store = defaultdict(lambda: defaultdict(int))\n",
    "\n",
    "# Preprocess and tokenize the reviews\n",
    "for _, row in data.iterrows():\n",
    "    store_address = row['store_address']\n",
    "    review = row['processed_review_basic']\n",
    "    doc = nlp(review)\n",
    "    \n",
    "    # Increment word counts for this store, excluding stopwords and non-alphabetic words\n",
    "    for token in doc:\n",
    "        if token.text.lower() not in STOP_WORDS and token.is_alpha:\n",
    "            word_counts_by_store[store_address][token.text.lower()] += 1\n",
    "\n",
    "# For demonstration, let's take a quick peek at the first store's word counts\n",
    "first_store_address = next(iter(word_counts_by_store.keys()))\n",
    "first_store_word_counts = word_counts_by_store[first_store_address]\n",
    "\n",
    "first_store_word_counts_sorted = sorted(first_store_word_counts.items(), key=lambda x: x[1], reverse=True)[:10]\n",
    "\n",
    "first_store_word_counts_sorted\n"
   ]
  },
  {
   "cell_type": "code",
   "execution_count": 7,
   "metadata": {},
   "outputs": [
    {
     "data": {
      "text/plain": [
       "[('good', 40),\n",
       " ('food', 32),\n",
       " ('s', 31),\n",
       " ('service', 22),\n",
       " ('mcdonald', 22),\n",
       " ('excellent', 17),\n",
       " ('drive', 16),\n",
       " ('customer', 15),\n",
       " ('time', 15),\n",
       " ('nugget', 13)]"
      ]
     },
     "execution_count": 7,
     "metadata": {},
     "output_type": "execute_result"
    }
   ],
   "source": [
    "# Alternative approach: Manually tokenize and filter out stopwords and non-alphabetic words\n",
    "from collections import Counter\n",
    "import re\n",
    "\n",
    "# A simple tokenizer function\n",
    "def simple_tokenize(text):\n",
    "    return re.findall(r'\\b\\w+\\b', text.lower())\n",
    "\n",
    "# Update word counts for each store without using Spacy\n",
    "word_counts_by_store_alt = defaultdict(Counter)\n",
    "\n",
    "for _, row in data.iterrows():\n",
    "    store_address = row['store_address']\n",
    "    review = row['processed_review_basic']\n",
    "    tokens = simple_tokenize(review)\n",
    "    \n",
    "    # Increment word counts for this store, excluding stopwords and non-alphabetic words\n",
    "    filtered_tokens = [token for token in tokens if token not in STOP_WORDS and token.isalpha()]\n",
    "    word_counts_by_store_alt[store_address].update(filtered_tokens)\n",
    "\n",
    "# Let's take a quick peek at the first store's word counts with the alternative approach\n",
    "first_store_address_alt = next(iter(word_counts_by_store_alt.keys()))\n",
    "first_store_word_counts_alt = word_counts_by_store_alt[first_store_address_alt]\n",
    "\n",
    "first_store_word_counts_sorted_alt = first_store_word_counts_alt.most_common(10)\n",
    "\n",
    "first_store_word_counts_sorted_alt\n"
   ]
  },
  {
   "cell_type": "code",
   "execution_count": 8,
   "metadata": {},
   "outputs": [
    {
     "data": {
      "image/png": "[encoded data removed]",
      "text/plain": [
       "<Figure size 2000x1000 with 6 Axes>"
      ]
     },
     "metadata": {},
     "output_type": "display_data"
    }
   ],
   "source": [
    "import matplotlib.pyplot as plt\n",
    "\n",
    "# Select a few stores for visualization\n",
    "selected_stores = list(word_counts_by_store_alt.keys())[:6]  # Taking the first 6 stores for demonstration\n",
    "\n",
    "plt.figure(figsize=(20, 10))\n",
    "\n",
    "for i, store_address in enumerate(selected_stores, 1):\n",
    "    # Get the top 10 most common words for the store\n",
    "    word_counts = word_counts_by_store_alt[store_address].most_common(10)\n",
    "    words, counts = zip(*word_counts)\n",
    "    \n",
    "    plt.subplot(2, 3, i)\n",
    "    plt.barh(words, counts)\n",
    "    plt.title(f'Store: {store_address[:50]}...')  # Truncate address for readability\n",
    "    plt.xlabel('Frequency')\n",
    "    plt.ylabel('Words')\n",
    "\n",
    "plt.tight_layout()\n",
    "plt.show()\n"
   ]
  },
  {
   "cell_type": "code",
   "execution_count": 9,
   "metadata": {},
   "outputs": [
    {
     "data": {
      "image/png": "[encoded data removed]",
      "text/plain": [
       "<Figure size 2000x1000 with 6 Axes>"
      ]
     },
     "metadata": {},
     "output_type": "display_data"
    }
   ],
   "source": [
    "import matplotlib.pyplot as plt\n",
    "\n",
    "# Select a few stores for visualization\n",
    "selected_stores = list(word_counts_by_store_alt.keys())[-6:]  # Taking the last 6 stores for demonstration\n",
    "\n",
    "plt.figure(figsize=(20, 10))\n",
    "\n",
    "for i, store_address in enumerate(selected_stores, 1):\n",
    "    # Get the top 10 most common words for the store\n",
    "    word_counts = word_counts_by_store_alt[store_address].most_common(10)\n",
    "    words, counts = zip(*word_counts)\n",
    "    \n",
    "    plt.subplot(2, 3, i)\n",
    "    plt.barh(words, counts)\n",
    "    plt.title(f'Store: {store_address[:50]}...')  # Truncate address for readability\n",
    "    plt.xlabel('Frequency')\n",
    "    plt.ylabel('Words')\n",
    "\n",
    "plt.tight_layout()\n",
    "plt.show()"
   ]
  },
  {
   "cell_type": "code",
   "execution_count": 10,
   "metadata": {},
   "outputs": [],
   "source": [
    "# Assuming the original data is already loaded in 'data'\n",
    "# Create a new column with the top 10 word frequency dictionaries for each store_address\n",
    "\n",
    "# Generate the top 10 word frequency dictionary for each store\n",
    "top_10_word_freqs = {store: dict(word_counts.most_common(10)) for store, word_counts in word_counts_by_store_alt.items()}\n",
    "\n",
    "# Map the top 10 word frequencies to each row based on store_address\n",
    "data['Top_10_Word_Frequencies'] = data['store_address'].apply(lambda x: top_10_word_freqs.get(x, {}))\n",
    "\n",
    "\n"
   ]
  },
  {
   "cell_type": "code",
   "execution_count": 11,
   "metadata": {},
   "outputs": [
    {
     "data": {
      "text/html": [
       "<div>\n",
       "<style scoped>\n",
       "    .dataframe tbody tr th:only-of-type {\n",
       "        vertical-align: middle;\n",
       "    }\n",
       "\n",
       "    .dataframe tbody tr th {\n",
       "        vertical-align: top;\n",
       "    }\n",
       "\n",
       "    .dataframe thead th {\n",
       "        text-align: right;\n",
       "    }\n",
       "</style>\n",
       "<table border=\"1\" class=\"dataframe\">\n",
       "  <thead>\n",
       "    <tr style=\"text-align: right;\">\n",
       "      <th></th>\n",
       "      <th>Store Address</th>\n",
       "      <th>Average Sentiment Score</th>\n",
       "      <th>Average Rate</th>\n",
       "      <th>Rank</th>\n",
       "      <th>Top_10_Word_Frequencies</th>\n",
       "      <th>latitude</th>\n",
       "      <th>longitude</th>\n",
       "    </tr>\n",
       "  </thead>\n",
       "  <tbody>\n",
       "    <tr>\n",
       "      <th>0</th>\n",
       "      <td>7010 Bradlick Shopping Center, Annandale, VA 2...</td>\n",
       "      <td>0.484544</td>\n",
       "      <td>3.932203</td>\n",
       "      <td>1.0</td>\n",
       "      <td>{'excellent': 20, 'good': 12, 'fast': 6, 'food...</td>\n",
       "      <td>38.812823</td>\n",
       "      <td>-77.185055</td>\n",
       "    </tr>\n",
       "    <tr>\n",
       "      <th>1</th>\n",
       "      <td>702-2 Haddonfield-Berlin Rd, Voorhees Township...</td>\n",
       "      <td>0.462471</td>\n",
       "      <td>3.836735</td>\n",
       "      <td>2.0</td>\n",
       "      <td>{'excellent': 29, 'good': 21, 'neutral': 9, 'f...</td>\n",
       "      <td>39.852059</td>\n",
       "      <td>-74.981099</td>\n",
       "    </tr>\n",
       "    <tr>\n",
       "      <th>2</th>\n",
       "      <td>5920 Balboa Ave, San Diego, CA 92111, United S...</td>\n",
       "      <td>0.460735</td>\n",
       "      <td>3.843137</td>\n",
       "      <td>3.0</td>\n",
       "      <td>{'good': 12, 'excellent': 10, 'food': 7, 'orde...</td>\n",
       "      <td>32.820654</td>\n",
       "      <td>-117.178011</td>\n",
       "    </tr>\n",
       "    <tr>\n",
       "      <th>3</th>\n",
       "      <td>1100 N US Hwy 377, Roanoke, TX 76262, United S...</td>\n",
       "      <td>0.352566</td>\n",
       "      <td>3.559701</td>\n",
       "      <td>4.0</td>\n",
       "      <td>{'good': 35, 'excellent': 26, 'food': 26, 'ord...</td>\n",
       "      <td>33.009318</td>\n",
       "      <td>-97.222925</td>\n",
       "    </tr>\n",
       "    <tr>\n",
       "      <th>4</th>\n",
       "      <td>160 Broadway, New York, NY 10038, United States</td>\n",
       "      <td>0.339286</td>\n",
       "      <td>5.000000</td>\n",
       "      <td>5.0</td>\n",
       "      <td>{'convenient': 1, 'location': 1, 'area': 1, 'l...</td>\n",
       "      <td>40.709375</td>\n",
       "      <td>-74.009979</td>\n",
       "    </tr>\n",
       "  </tbody>\n",
       "</table>\n",
       "</div>"
      ],
      "text/plain": [
       "                                       Store Address  Average Sentiment Score  \\\n",
       "0  7010 Bradlick Shopping Center, Annandale, VA 2...                 0.484544   \n",
       "1  702-2 Haddonfield-Berlin Rd, Voorhees Township...                 0.462471   \n",
       "2  5920 Balboa Ave, San Diego, CA 92111, United S...                 0.460735   \n",
       "3  1100 N US Hwy 377, Roanoke, TX 76262, United S...                 0.352566   \n",
       "4    160 Broadway, New York, NY 10038, United States                 0.339286   \n",
       "\n",
       "   Average Rate  Rank                            Top_10_Word_Frequencies  \\\n",
       "0      3.932203   1.0  {'excellent': 20, 'good': 12, 'fast': 6, 'food...   \n",
       "1      3.836735   2.0  {'excellent': 29, 'good': 21, 'neutral': 9, 'f...   \n",
       "2      3.843137   3.0  {'good': 12, 'excellent': 10, 'food': 7, 'orde...   \n",
       "3      3.559701   4.0  {'good': 35, 'excellent': 26, 'food': 26, 'ord...   \n",
       "4      5.000000   5.0  {'convenient': 1, 'location': 1, 'area': 1, 'l...   \n",
       "\n",
       "    latitude   longitude  \n",
       "0  38.812823  -77.185055  \n",
       "1  39.852059  -74.981099  \n",
       "2  32.820654 -117.178011  \n",
       "3  33.009318  -97.222925  \n",
       "4  40.709375  -74.009979  "
      ]
     },
     "execution_count": 11,
     "metadata": {},
     "output_type": "execute_result"
    }
   ],
   "source": [
    "# Merge the datasets on their address columns\n",
    "merged_df = pd.merge(averages_df, data[['store_address', 'Top_10_Word_Frequencies','latitude','longitude']],\n",
    "                     left_on='Store Address', right_on='store_address', how='left')\n",
    "\n",
    "# Drop the duplicate 'store_address' column after merging\n",
    "merged_df.drop(columns=['store_address'], inplace=True)\n",
    "\n",
    "# Remove duplicate rows based on the 'Store Address' column while keeping the first occurrence\n",
    "merged_df_unique = merged_df.drop_duplicates(subset=['Store Address']).reset_index(drop=True)\n",
    "\n",
    "# Display the first few rows of the deduplicated dataframe\n",
    "merged_df_unique.head()\n"
   ]
  },
  {
   "cell_type": "code",
   "execution_count": 12,
   "metadata": {},
   "outputs": [],
   "source": [
    "save_data(merged_df_unique, \"McDonald_s_Reviews_Averages_With_Top_10_Word_Frequencies.csv\")"
   ]
  },
  {
   "cell_type": "code",
   "execution_count": 14,
   "metadata": {},
   "outputs": [
    {
     "name": "stdout",
     "output_type": "stream",
     "text": [
      "Collecting dashNote: you may need to restart the kernel to use updated packages.\n",
      "\n",
      "  Downloading dash-2.15.0-py3-none-any.whl.metadata (11 kB)\n",
      "Collecting Flask<3.1,>=1.0.4 (from dash)\n",
      "  Downloading flask-3.0.2-py3-none-any.whl.metadata (3.6 kB)\n",
      "Collecting Werkzeug<3.1 (from dash)\n",
      "  Downloading werkzeug-3.0.1-py3-none-any.whl.metadata (4.1 kB)\n",
      "Requirement already satisfied: plotly>=5.0.0 in c:\\users\\tys\\appdata\\local\\programs\\python\\python311\\lib\\site-packages (from dash) (5.18.0)\n",
      "Collecting dash-html-components==2.0.0 (from dash)\n",
      "  Downloading dash_html_components-2.0.0-py3-none-any.whl (4.1 kB)\n",
      "Collecting dash-core-components==2.0.0 (from dash)\n",
      "  Downloading dash_core_components-2.0.0-py3-none-any.whl (3.8 kB)\n",
      "Collecting dash-table==5.0.0 (from dash)\n",
      "  Downloading dash_table-5.0.0-py3-none-any.whl (3.9 kB)\n",
      "Requirement already satisfied: typing-extensions>=4.1.1 in c:\\users\\tys\\appdata\\local\\programs\\python\\python311\\lib\\site-packages (from dash) (4.9.0)\n",
      "Requirement already satisfied: requests in c:\\users\\tys\\appdata\\local\\programs\\python\\python311\\lib\\site-packages (from dash) (2.31.0)\n",
      "Collecting retrying (from dash)\n",
      "  Downloading retrying-1.3.4-py3-none-any.whl (11 kB)\n",
      "Requirement already satisfied: nest-asyncio in c:\\users\\tys\\appdata\\roaming\\python\\python311\\site-packages (from dash) (1.5.6)\n",
      "Requirement already satisfied: setuptools in c:\\users\\tys\\appdata\\local\\programs\\python\\python311\\lib\\site-packages (from dash) (65.6.3)\n",
      "Collecting importlib-metadata (from dash)\n",
      "  Downloading importlib_metadata-7.0.1-py3-none-any.whl.metadata (4.9 kB)\n",
      "Requirement already satisfied: Jinja2>=3.1.2 in c:\\users\\tys\\appdata\\local\\programs\\python\\python311\\lib\\site-packages (from Flask<3.1,>=1.0.4->dash) (3.1.2)\n",
      "Collecting itsdangerous>=2.1.2 (from Flask<3.1,>=1.0.4->dash)\n",
      "  Downloading itsdangerous-2.1.2-py3-none-any.whl (15 kB)\n",
      "Requirement already satisfied: click>=8.1.3 in c:\\users\\tys\\appdata\\local\\programs\\python\\python311\\lib\\site-packages (from Flask<3.1,>=1.0.4->dash) (8.1.3)\n",
      "Collecting blinker>=1.6.2 (from Flask<3.1,>=1.0.4->dash)\n",
      "  Downloading blinker-1.7.0-py3-none-any.whl.metadata (1.9 kB)\n",
      "Requirement already satisfied: tenacity>=6.2.0 in c:\\users\\tys\\appdata\\local\\programs\\python\\python311\\lib\\site-packages (from plotly>=5.0.0->dash) (8.2.3)\n",
      "Requirement already satisfied: packaging in c:\\users\\tys\\appdata\\local\\programs\\python\\python311\\lib\\site-packages (from plotly>=5.0.0->dash) (22.0)\n",
      "Requirement already satisfied: MarkupSafe>=2.1.1 in c:\\users\\tys\\appdata\\local\\programs\\python\\python311\\lib\\site-packages (from Werkzeug<3.1->dash) (2.1.2)\n",
      "Collecting zipp>=0.5 (from importlib-metadata->dash)\n",
      "  Downloading zipp-3.17.0-py3-none-any.whl.metadata (3.7 kB)\n",
      "Requirement already satisfied: charset-normalizer<4,>=2 in c:\\users\\tys\\appdata\\local\\programs\\python\\python311\\lib\\site-packages (from requests->dash) (3.3.2)\n",
      "Requirement already satisfied: idna<4,>=2.5 in c:\\users\\tys\\appdata\\local\\programs\\python\\python311\\lib\\site-packages (from requests->dash) (3.4)\n",
      "Requirement already satisfied: urllib3<3,>=1.21.1 in c:\\users\\tys\\appdata\\local\\programs\\python\\python311\\lib\\site-packages (from requests->dash) (2.1.0)\n",
      "Requirement already satisfied: certifi>=2017.4.17 in c:\\users\\tys\\appdata\\local\\programs\\python\\python311\\lib\\site-packages (from requests->dash) (2023.7.22)\n",
      "Requirement already satisfied: six>=1.7.0 in c:\\users\\tys\\appdata\\local\\programs\\python\\python311\\lib\\site-packages (from retrying->dash) (1.16.0)\n",
      "Requirement already satisfied: colorama in c:\\users\\tys\\appdata\\local\\programs\\python\\python311\\lib\\site-packages (from click>=8.1.3->Flask<3.1,>=1.0.4->dash) (0.4.6)\n",
      "Downloading dash-2.15.0-py3-none-any.whl (10.2 MB)\n",
      "   ---------------------------------------- 0.0/10.2 MB ? eta -:--:--\n",
      "   ---------------------------------------- 0.0/10.2 MB 1.9 MB/s eta 0:00:06\n",
      "   ---------------------------------------- 0.1/10.2 MB 1.3 MB/s eta 0:00:08\n",
      "   ---------------------------------------- 0.1/10.2 MB 1.3 MB/s eta 0:00:08\n",
      "    --------------------------------------- 0.1/10.2 MB 847.9 kB/s eta 0:00:12\n",
      "    --------------------------------------- 0.2/10.2 MB 888.4 kB/s eta 0:00:12\n",
      "    --------------------------------------- 0.2/10.2 MB 885.4 kB/s eta 0:00:12\n",
      "   - -------------------------------------- 0.3/10.2 MB 965.4 kB/s eta 0:00:11\n",
      "   - -------------------------------------- 0.3/10.2 MB 982.3 kB/s eta 0:00:11\n",
      "   - -------------------------------------- 0.4/10.2 MB 1.1 MB/s eta 0:00:10\n",
      "   -- ------------------------------------- 0.5/10.2 MB 1.1 MB/s eta 0:00:09\n",
      "   -- ------------------------------------- 0.6/10.2 MB 1.2 MB/s eta 0:00:09\n",
      "   -- ------------------------------------- 0.7/10.2 MB 1.2 MB/s eta 0:00:09\n",
      "   -- ------------------------------------- 0.7/10.2 MB 1.2 MB/s eta 0:00:08\n",
      "   -- ------------------------------------- 0.8/10.2 MB 1.2 MB/s eta 0:00:08\n",
      "   --- ------------------------------------ 0.8/10.2 MB 1.2 MB/s eta 0:00:08\n",
      "   --- ------------------------------------ 0.9/10.2 MB 1.2 MB/s eta 0:00:08\n",
      "   --- ------------------------------------ 0.9/10.2 MB 1.2 MB/s eta 0:00:09\n",
      "   --- ------------------------------------ 1.0/10.2 MB 1.2 MB/s eta 0:00:08\n",
      "   ---- ----------------------------------- 1.0/10.2 MB 1.2 MB/s eta 0:00:08\n",
      "   ---- ----------------------------------- 1.1/10.2 MB 1.2 MB/s eta 0:00:08\n",
      "   ---- ----------------------------------- 1.2/10.2 MB 1.2 MB/s eta 0:00:08\n",
      "   ----- ---------------------------------- 1.3/10.2 MB 1.3 MB/s eta 0:00:07\n",
      "   ----- ---------------------------------- 1.3/10.2 MB 1.3 MB/s eta 0:00:08\n",
      "   ----- ---------------------------------- 1.4/10.2 MB 1.3 MB/s eta 0:00:07\n",
      "   ----- ---------------------------------- 1.5/10.2 MB 1.3 MB/s eta 0:00:07\n",
      "   ------ --------------------------------- 1.6/10.2 MB 1.3 MB/s eta 0:00:07\n",
      "   ------ --------------------------------- 1.7/10.2 MB 1.4 MB/s eta 0:00:07\n",
      "   ------ --------------------------------- 1.8/10.2 MB 1.4 MB/s eta 0:00:07\n",
      "   ------- -------------------------------- 1.9/10.2 MB 1.4 MB/s eta 0:00:06\n",
      "   ------- -------------------------------- 2.0/10.2 MB 1.4 MB/s eta 0:00:06\n",
      "   -------- ------------------------------- 2.1/10.2 MB 1.5 MB/s eta 0:00:06\n",
      "   -------- ------------------------------- 2.2/10.2 MB 1.5 MB/s eta 0:00:06\n",
      "   -------- ------------------------------- 2.2/10.2 MB 1.5 MB/s eta 0:00:06\n",
      "   --------- ------------------------------ 2.3/10.2 MB 1.5 MB/s eta 0:00:06\n",
      "   --------- ------------------------------ 2.4/10.2 MB 1.5 MB/s eta 0:00:06\n",
      "   --------- ------------------------------ 2.5/10.2 MB 1.5 MB/s eta 0:00:06\n",
      "   --------- ------------------------------ 2.5/10.2 MB 1.5 MB/s eta 0:00:06\n",
      "   ---------- ----------------------------- 2.6/10.2 MB 1.5 MB/s eta 0:00:06\n",
      "   ---------- ----------------------------- 2.7/10.2 MB 1.5 MB/s eta 0:00:05\n",
      "   ----------- ---------------------------- 2.8/10.2 MB 1.5 MB/s eta 0:00:05\n",
      "   ----------- ---------------------------- 2.9/10.2 MB 1.5 MB/s eta 0:00:05\n",
      "   ----------- ---------------------------- 3.0/10.2 MB 1.6 MB/s eta 0:00:05\n",
      "   ----------- ---------------------------- 3.0/10.2 MB 1.6 MB/s eta 0:00:05\n",
      "   ------------ --------------------------- 3.1/10.2 MB 1.5 MB/s eta 0:00:05\n",
      "   ------------ --------------------------- 3.2/10.2 MB 1.5 MB/s eta 0:00:05\n",
      "   ------------ --------------------------- 3.3/10.2 MB 1.6 MB/s eta 0:00:05\n",
      "   ------------- -------------------------- 3.4/10.2 MB 1.6 MB/s eta 0:00:05\n",
      "   ------------- -------------------------- 3.5/10.2 MB 1.6 MB/s eta 0:00:05\n",
      "   -------------- ------------------------- 3.6/10.2 MB 1.6 MB/s eta 0:00:05\n",
      "   -------------- ------------------------- 3.7/10.2 MB 1.6 MB/s eta 0:00:05\n",
      "   --------------- ------------------------ 3.8/10.2 MB 1.6 MB/s eta 0:00:04\n",
      "   --------------- ------------------------ 3.9/10.2 MB 1.6 MB/s eta 0:00:04\n",
      "   --------------- ------------------------ 3.9/10.2 MB 1.6 MB/s eta 0:00:04\n",
      "   --------------- ------------------------ 4.0/10.2 MB 1.6 MB/s eta 0:00:04\n",
      "   ---------------- ----------------------- 4.2/10.2 MB 1.6 MB/s eta 0:00:04\n",
      "   ---------------- ----------------------- 4.2/10.2 MB 1.6 MB/s eta 0:00:04\n",
      "   ----------------- ---------------------- 4.4/10.2 MB 1.7 MB/s eta 0:00:04\n",
      "   ----------------- ---------------------- 4.5/10.2 MB 1.7 MB/s eta 0:00:04\n",
      "   ------------------ --------------------- 4.6/10.2 MB 1.7 MB/s eta 0:00:04\n",
      "   ------------------ --------------------- 4.7/10.2 MB 1.7 MB/s eta 0:00:04\n",
      "   ------------------ --------------------- 4.8/10.2 MB 1.7 MB/s eta 0:00:04\n",
      "   ------------------- -------------------- 4.9/10.2 MB 1.7 MB/s eta 0:00:04\n",
      "   ------------------- -------------------- 5.0/10.2 MB 1.7 MB/s eta 0:00:04\n",
      "   -------------------- ------------------- 5.1/10.2 MB 1.7 MB/s eta 0:00:03\n",
      "   -------------------- ------------------- 5.3/10.2 MB 1.7 MB/s eta 0:00:03\n",
      "   --------------------- ------------------ 5.4/10.2 MB 1.7 MB/s eta 0:00:03\n",
      "   --------------------- ------------------ 5.5/10.2 MB 1.7 MB/s eta 0:00:03\n",
      "   --------------------- ------------------ 5.6/10.2 MB 1.8 MB/s eta 0:00:03\n",
      "   ---------------------- ----------------- 5.7/10.2 MB 1.8 MB/s eta 0:00:03\n",
      "   ---------------------- ----------------- 5.9/10.2 MB 1.8 MB/s eta 0:00:03\n",
      "   ----------------------- ---------------- 6.0/10.2 MB 1.8 MB/s eta 0:00:03\n",
      "   ----------------------- ---------------- 6.1/10.2 MB 1.8 MB/s eta 0:00:03\n",
      "   ------------------------ --------------- 6.3/10.2 MB 1.8 MB/s eta 0:00:03\n",
      "   ------------------------- -------------- 6.4/10.2 MB 1.8 MB/s eta 0:00:03\n",
      "   ------------------------- -------------- 6.5/10.2 MB 1.9 MB/s eta 0:00:02\n",
      "   -------------------------- ------------- 6.7/10.2 MB 1.9 MB/s eta 0:00:02\n",
      "   -------------------------- ------------- 6.9/10.2 MB 1.9 MB/s eta 0:00:02\n",
      "   --------------------------- ------------ 7.0/10.2 MB 1.9 MB/s eta 0:00:02\n",
      "   ---------------------------- ----------- 7.2/10.2 MB 1.9 MB/s eta 0:00:02\n",
      "   ---------------------------- ----------- 7.4/10.2 MB 2.0 MB/s eta 0:00:02\n",
      "   ----------------------------- ---------- 7.5/10.2 MB 2.0 MB/s eta 0:00:02\n",
      "   ------------------------------ --------- 7.7/10.2 MB 2.0 MB/s eta 0:00:02\n",
      "   ------------------------------ --------- 7.8/10.2 MB 2.0 MB/s eta 0:00:02\n",
      "   ------------------------------- -------- 8.0/10.2 MB 2.0 MB/s eta 0:00:02\n",
      "   -------------------------------- ------- 8.2/10.2 MB 2.1 MB/s eta 0:00:01\n",
      "   -------------------------------- ------- 8.3/10.2 MB 2.1 MB/s eta 0:00:01\n",
      "   --------------------------------- ------ 8.5/10.2 MB 2.1 MB/s eta 0:00:01\n",
      "   --------------------------------- ------ 8.6/10.2 MB 2.1 MB/s eta 0:00:01\n",
      "   ---------------------------------- ----- 8.8/10.2 MB 2.1 MB/s eta 0:00:01\n",
      "   ----------------------------------- ---- 9.0/10.2 MB 2.1 MB/s eta 0:00:01\n",
      "   ------------------------------------ --- 9.2/10.2 MB 2.2 MB/s eta 0:00:01\n",
      "   ------------------------------------ --- 9.4/10.2 MB 2.2 MB/s eta 0:00:01\n",
      "   ------------------------------------- -- 9.6/10.2 MB 2.2 MB/s eta 0:00:01\n",
      "   -------------------------------------- - 9.7/10.2 MB 2.2 MB/s eta 0:00:01\n",
      "   -------------------------------------- - 9.9/10.2 MB 2.2 MB/s eta 0:00:01\n",
      "   ---------------------------------------  10.1/10.2 MB 2.3 MB/s eta 0:00:01\n",
      "   ---------------------------------------- 10.2/10.2 MB 2.3 MB/s eta 0:00:00\n",
      "Downloading flask-3.0.2-py3-none-any.whl (101 kB)\n",
      "   ---------------------------------------- 0.0/101.3 kB ? eta -:--:--\n",
      "   ---------------------------------------- 101.3/101.3 kB 6.1 MB/s eta 0:00:00\n",
      "Downloading werkzeug-3.0.1-py3-none-any.whl (226 kB)\n",
      "   ---------------------------------------- 0.0/226.7 kB ? eta -:--:--\n",
      "   ---------------------------------------  225.3/226.7 kB 6.9 MB/s eta 0:00:01\n",
      "   ---------------------------------------- 226.7/226.7 kB 4.6 MB/s eta 0:00:00\n",
      "Downloading importlib_metadata-7.0.1-py3-none-any.whl (23 kB)\n",
      "Downloading blinker-1.7.0-py3-none-any.whl (13 kB)\n",
      "Downloading zipp-3.17.0-py3-none-any.whl (7.4 kB)\n",
      "Installing collected packages: dash-table, dash-html-components, dash-core-components, zipp, Werkzeug, retrying, itsdangerous, blinker, importlib-metadata, Flask, dash\n",
      "Successfully installed Flask-3.0.2 Werkzeug-3.0.1 blinker-1.7.0 dash-2.15.0 dash-core-components-2.0.0 dash-html-components-2.0.0 dash-table-5.0.0 importlib-metadata-7.0.1 itsdangerous-2.1.2 retrying-1.3.4 zipp-3.17.0\n"
     ]
    }
   ],
   "source": [
    "pip install dash"
   ]
  },
  {
   "cell_type": "code",
   "execution_count": 18,
   "metadata": {},
   "outputs": [
    {
     "data": {
      "application/vnd.plotly.v1+json": {
       "config": {
        "plotlyServerURL": "https://plot.ly"
       },
       "data": [
        {
         "hovertemplate": "<b>%{hovertext}</b><br><br>latitude=%{lat}<br>longitude=%{lon}<extra></extra>",
         "hovertext": [
          "Average Sentiment Score: 0.48454398708636\nAverage Rate: 3.9322033898305087\nTop 10 Word Frequencies: {'excellent': 20, 'good': 12, 'fast': 6, 'food': 6, 'mcdonald': 5, 'order': 5, 'service': 4, 's': 4, 'got': 4, 'neutral': 4}",
          "Average Sentiment Score: 0.4624713301626567\nAverage Rate: 3.836734693877551\nTop 10 Word Frequencies: {'excellent': 29, 'good': 21, 'neutral': 9, 'food': 9, 's': 8, 'drive': 8, 'service': 8, 'nice': 7, 'customer': 6, 'order': 6}",
          "Average Sentiment Score: 0.46073508191155255\nAverage Rate: 3.843137254901961\nTop 10 Word Frequencies: {'good': 12, 'excellent': 10, 'food': 7, 'order': 7, 'service': 6, 's': 6, 'drive': 5, 'great': 4, 'neutral': 3, 'mobile': 3}",
          "Average Sentiment Score: 0.35256563640891997\nAverage Rate: 3.5597014925373136\nTop 10 Word Frequencies: {'good': 35, 'excellent': 26, 'food': 26, 'order': 25, 's': 24, 'time': 17, 'service': 16, 'mcdonald': 16, 'like': 12, 'wrong': 11}",
          "Average Sentiment Score: 0.3392857142857143\nAverage Rate: 5.0\nTop 10 Word Frequencies: {'convenient': 1, 'location': 1, 'area': 1, 'look': 1, 'safe': 1, 'staff': 1, 'friendly': 1, 'fast': 1, 'restaurant': 1, 'open': 1}",
          "Average Sentiment Score: 0.33420215354949867\nAverage Rate: 3.5398230088495577\nTop 10 Word Frequencies: {'good': 34, 'food': 19, 'service': 18, 'excellent': 13, 'clean': 11, 'place': 10, 's': 9, 'neutral': 8, 'time': 8, 'coffee': 7}",
          "Average Sentiment Score: 0.2871012849584278\nAverage Rate: 3.5833333333333335\nTop 10 Word Frequencies: {'food': 22, 'good': 17, 'order': 15, 's': 10, 'drive': 9, 'service': 9, 'place': 7, 'mcdonalds': 7, 'fresh': 6, 'great': 6}",
          "Average Sentiment Score: 0.2790046569592024\nAverage Rate: 3.3333333333333335\nTop 10 Word Frequencies: {'excellent': 23, 'food': 17, 'good': 13, 'neutral': 12, 'drive': 8, 'time': 7, 'order': 7, 'fast': 6, 'staff': 6, 's': 6}",
          "Average Sentiment Score: 0.27433111106580493\nAverage Rate: 3.2527472527472527\nTop 10 Word Frequencies: {'good': 24, 'service': 18, 's': 17, 'order': 16, 'excellent': 14, 'customer': 12, 'mcdonald': 12, 'food': 11, 'time': 10, 'manager': 9}",
          "Average Sentiment Score: 0.25712311649046343\nAverage Rate: 3.6095238095238096\nTop 10 Word Frequencies: {'service': 26, 'order': 21, 'good': 19, 'food': 16, 'place': 13, 'excellent': 12, 'clean': 10, 's': 10, 'time': 9, 'mcdonald': 9}",
          "Average Sentiment Score: 0.22785928706067596\nAverage Rate: 3.4027777777777777\nTop 10 Word Frequencies: {'good': 12, 's': 11, 'order': 11, 'food': 10, 'excellent': 9, 'mcdonald': 8, 'fast': 8, 'service': 8, 'location': 5, 'like': 5}",
          "Average Sentiment Score: 0.22453971386486726\nAverage Rate: 3.4294478527607364\nTop 10 Word Frequencies: {'good': 40, 'food': 32, 's': 31, 'service': 22, 'mcdonald': 22, 'excellent': 17, 'drive': 16, 'customer': 15, 'time': 15, 'nugget': 13}",
          "Average Sentiment Score: 0.2216098787915558\nAverage Rate: 3.4285714285714284\nTop 10 Word Frequencies: {'s': 29, 'service': 27, 'food': 27, 'good': 25, 'order': 20, 'mcdonald': 19, 'drive': 18, 'great': 15, 'excellent': 15, 'time': 15}",
          "Average Sentiment Score: 0.21272251677261597\nAverage Rate: 3.5\nTop 10 Word Frequencies: {'food': 14, 'service': 13, 'order': 12, 'place': 9, 'mcdonald': 9, 'time': 9, 's': 8, 'nice': 8, 'restaurant': 8, 'good': 7}",
          "Average Sentiment Score: 0.2108388383510216\nAverage Rate: 3.1728395061728394\nTop 10 Word Frequencies: {'mcdonald': 16, 's': 14, 'food': 14, 'drive': 11, 'order': 11, 'good': 10, 'place': 8, 'service': 8, 'great': 8, 'time': 7}",
          "Average Sentiment Score: 0.20216355990609722\nAverage Rate: 3.2686567164179103\nTop 10 Word Frequencies: {'service': 11, 'good': 10, 'food': 10, 'staff': 8, 'order': 7, 's': 7, 'excellent': 6, 'clean': 6, 'people': 5, 'place': 5}",
          "Average Sentiment Score: 0.19545998580272775\nAverage Rate: 3.3548387096774195\nTop 10 Word Frequencies: {'service': 17, 's': 15, 'food': 14, 'good': 14, 'mcdonald': 12, 'great': 9, 'order': 8, 'fast': 7, 'people': 6, 'clean': 6}",
          "Average Sentiment Score: 0.18634378309660266\nAverage Rate: 3.0701754385964914\nTop 10 Word Frequencies: {'s': 13, 'food': 9, 'good': 8, 'drive': 8, 'homeless': 8, 'order': 8, 'clean': 8, 'staff': 8, 'service': 7, 'mcdonald': 7}",
          "Average Sentiment Score: 0.16672146172780902\nAverage Rate: 2.992957746478873\nTop 10 Word Frequencies: {'order': 33, 'service': 30, 'food': 27, 'good': 23, 'excellent': 19, 'mcdonald': 14, 'drive': 13, 'time': 13, 's': 12, 'customer': 12}",
          "Average Sentiment Score: 0.16192779879787753\nAverage Rate: 3.15748031496063\nTop 10 Word Frequencies: {'neutral': 20, 's': 19, 'good': 16, 'excellent': 16, 'food': 15, 'service': 14, 'place': 14, 'mcdonald': 12, 'order': 10, 'eat': 8}",
          "Average Sentiment Score: 0.1580061617948615\nAverage Rate: 3.0584795321637426\nTop 10 Word Frequencies: {'s': 47, 'food': 46, 'order': 43, 'service': 42, 'mcdonald': 27, 'good': 24, 'great': 21, 'fast': 19, 'fry': 18, 'like': 17}",
          "Average Sentiment Score: 0.15732417099512688\nAverage Rate: 3.5\nTop 10 Word Frequencies: {'mcdonald': 40, 'pizza': 40, 's': 40, 'food': 27, 'place': 26, 'order': 19, 'pasta': 17, 'service': 14, 'upstairs': 12, 'arcade': 11}",
          "Average Sentiment Score: 0.15277195010862746\nAverage Rate: 3.3258426966292136\nTop 10 Word Frequencies: {'food': 39, 'place': 25, 'service': 23, 's': 20, 'order': 16, 'mcdonald': 15, 'fast': 14, 'great': 14, 'location': 13, 'homeless': 12}",
          "Average Sentiment Score: 0.1447183291245791\nAverage Rate: 3.025\nTop 10 Word Frequencies: {'food': 32, 's': 23, 'place': 18, 'people': 18, 'service': 18, 'good': 15, 'order': 14, 'mcdonald': 13, 'time': 12, 'clean': 11}",
          "Average Sentiment Score: 0.1411959682463635\nAverage Rate: 3.0\nTop 10 Word Frequencies: {'place': 10, 'clean': 9, 'mcdonald': 8, 'food': 7, 'staff': 6, 's': 5, 'service': 5, 'rude': 5, 'like': 4, 'came': 4}",
          "Average Sentiment Score: 0.10991913832135607\nAverage Rate: 2.9193548387096775\nTop 10 Word Frequencies: {'s': 15, 'mcdonald': 13, 'good': 12, 'service': 9, 'order': 8, 'food': 8, 'staff': 8, 'time': 7, 'fast': 7, 'place': 7}",
          "Average Sentiment Score: 0.10006873133326621\nAverage Rate: 2.546511627906977\nTop 10 Word Frequencies: {'food': 20, 'order': 15, 'good': 14, 'time': 14, 'service': 14, 'like': 11, 'meal': 10, 'drive': 7, 'worst': 7, 'staff': 7}",
          "Average Sentiment Score: 0.09861023561727787\nAverage Rate: 3.028169014084507\nTop 10 Word Frequencies: {'food': 26, 'service': 15, 'order': 13, 'fast': 13, 'location': 12, 'mcdonald': 12, 'drive': 11, 'mcdonalds': 9, 'time': 9, 'good': 9}",
          "Average Sentiment Score: 0.0864814773594769\nAverage Rate: 2.7839195979899496\nTop 10 Word Frequencies: {'food': 95, 'order': 70, 's': 61, 'mcdonald': 48, 'service': 45, 'drive': 42, 'time': 37, 'good': 35, 'manager': 29, 'location': 26}",
          "Average Sentiment Score: 0.08311251937308822\nAverage Rate: 2.75\nTop 10 Word Frequencies: {'order': 34, 'food': 34, 's': 30, 'time': 25, 'good': 21, 'mcdonald': 21, 'service': 19, 'told': 13, 'like': 13, 'people': 13}",
          "Average Sentiment Score: 0.06205820443471185\nAverage Rate: 2.538961038961039\nTop 10 Word Frequencies: {'food': 80, 'order': 63, 'service': 46, 's': 35, 'time': 35, 'staff': 35, 'mcdonald': 29, 'drive': 27, 'got': 25, 'minute': 25}",
          "Average Sentiment Score: 0.026710407647907646\nAverage Rate: 2.3225806451612905\nTop 10 Word Frequencies: {'order': 18, 'service': 16, 's': 15, 'mcdonald': 12, 'food': 10, 'like': 9, 'good': 9, 'slow': 7, 'drive': 7, 'eat': 6}",
          "Average Sentiment Score: 0.015351902483481433\nAverage Rate: 2.6210526315789475\nTop 10 Word Frequencies: {'order': 26, 'food': 16, 'service': 16, 's': 15, 'mcdonald': 13, 'place': 11, 'manager': 10, 'best': 10, 'rude': 9, 'people': 8}",
          "Average Sentiment Score: -0.008971791401302678\nAverage Rate: 2.598684210526316\nTop 10 Word Frequencies: {'order': 40, 'service': 33, 'food': 25, 'drive': 22, 'good': 19, 'mcdonald': 18, 'employee': 18, 's': 18, 'like': 16, 'place': 16}",
          "Average Sentiment Score: -0.029193722943722935\nAverage Rate: 2.0\nTop 10 Word Frequencies: {'food': 5, 's': 5, 'place': 4, 'minute': 4, 'bathroom': 4, 've': 3, 'order': 3, 'line': 3, 'paper': 3, 'worker': 3}",
          "Average Sentiment Score: -0.11825094617857776\nAverage Rate: 1.5964912280701755\nTop 10 Word Frequencies: {'order': 25, 'service': 20, 'food': 20, 'place': 16, 'rude': 12, 's': 11, 'manager': 9, 'like': 9, 'worst': 9, 'staff': 8}"
         ],
         "lat": [
          38.8128231,
          39.8520594,
          32.8206541,
          33.0093179,
          40.7093746,
          40.7505058,
          41.8796564,
          40.9220806,
          32.9580411,
          40.7274006,
          30.4607176,
          28.6553497,
          34.1525074,
          44.9814099,
          37.3854949,
          38.9054561,
          28.3999863,
          34.0352699,
          40.7719101,
          40.7291264,
          32.7445961,
          28.4503866,
          34.0122192,
          40.7525294,
          40.7185138,
          32.7976607,
          30.3291349,
          29.6762669,
          28.3335081,
          40.7590573,
          28.4238144,
          33.9312613,
          36.0902437,
          25.8099996,
          40.750831,
          25.7902955
         ],
         "legendgroup": "",
         "lon": [
          -77.1850548,
          -74.9810994,
          -117.1780115,
          -97.2229254,
          -74.0099791,
          -73.990583,
          -87.7779131,
          -75.3999187,
          -97.3076518,
          -73.8124604,
          -97.7928744,
          -81.3426916,
          -118.3679036,
          -73.4598199,
          -121.9954211,
          -77.0442355,
          -81.4051029,
          -118.2382063,
          -74.1614754,
          -73.9932643,
          -96.8122859,
          -81.4714142,
          -118.4945396,
          -73.9928762,
          -74.0011677,
          -117.2494697,
          -97.6606295,
          -98.6345801,
          -81.5137384,
          -111.8973832,
          -81.4612421,
          -118.2829548,
          -115.1758223,
          -80.1890981,
          -73.9890961,
          -80.1320774
         ],
         "marker": {
          "color": "fuchsia",
          "size": 15
         },
         "mode": "markers",
         "name": "",
         "showlegend": false,
         "subplot": "mapbox",
         "type": "scattermapbox"
        }
       ],
       "layout": {
        "autosize": true,
        "legend": {
         "tracegroupgap": 0
        },
        "mapbox": {
         "center": {
          "lat": 35.28581834444444,
          "lon": -90.76736020833334
         },
         "domain": {
          "x": [
           0,
           1
          ],
          "y": [
           0,
           1
          ]
         },
         "style": "open-street-map",
         "zoom": 3
        },
        "margin": {
         "t": 60
        },
        "template": {
         "data": {
          "bar": [
           {
            "error_x": {
             "color": "#2a3f5f"
            },
            "error_y": {
             "color": "#2a3f5f"
            },
            "marker": {
             "line": {
              "color": "#E5ECF6",
              "width": 0.5
             },
             "pattern": {
              "fillmode": "overlay",
              "size": 10,
              "solidity": 0.2
             }
            },
            "type": "bar"
           }
          ],
          "barpolar": [
           {
            "marker": {
             "line": {
              "color": "#E5ECF6",
              "width": 0.5
             },
             "pattern": {
              "fillmode": "overlay",
              "size": 10,
              "solidity": 0.2
             }
            },
            "type": "barpolar"
           }
          ],
          "carpet": [
           {
            "aaxis": {
             "endlinecolor": "#2a3f5f",
             "gridcolor": "white",
             "linecolor": "white",
             "minorgridcolor": "white",
             "startlinecolor": "#2a3f5f"
            },
            "baxis": {
             "endlinecolor": "#2a3f5f",
             "gridcolor": "white",
             "linecolor": "white",
             "minorgridcolor": "white",
             "startlinecolor": "#2a3f5f"
            },
            "type": "carpet"
           }
          ],
          "choropleth": [
           {
            "colorbar": {
             "outlinewidth": 0,
             "ticks": ""
            },
            "type": "choropleth"
           }
          ],
          "contour": [
           {
            "colorbar": {
             "outlinewidth": 0,
             "ticks": ""
            },
            "colorscale": [
             [
              0,
              "#0d0887"
             ],
             [
              0.1111111111111111,
              "#46039f"
             ],
             [
              0.2222222222222222,
              "#7201a8"
             ],
             [
              0.3333333333333333,
              "#9c179e"
             ],
             [
              0.4444444444444444,
              "#bd3786"
             ],
             [
              0.5555555555555556,
              "#d8576b"
             ],
             [
              0.6666666666666666,
              "#ed7953"
             ],
             [
              0.7777777777777778,
              "#fb9f3a"
             ],
             [
              0.8888888888888888,
              "#fdca26"
             ],
             [
              1,
              "#f0f921"
             ]
            ],
            "type": "contour"
           }
          ],
          "contourcarpet": [
           {
            "colorbar": {
             "outlinewidth": 0,
             "ticks": ""
            },
            "type": "contourcarpet"
           }
          ],
          "heatmap": [
           {
            "colorbar": {
             "outlinewidth": 0,
             "ticks": ""
            },
            "colorscale": [
             [
              0,
              "#0d0887"
             ],
             [
              0.1111111111111111,
              "#46039f"
             ],
             [
              0.2222222222222222,
              "#7201a8"
             ],
             [
              0.3333333333333333,
              "#9c179e"
             ],
             [
              0.4444444444444444,
              "#bd3786"
             ],
             [
              0.5555555555555556,
              "#d8576b"
             ],
             [
              0.6666666666666666,
              "#ed7953"
             ],
             [
              0.7777777777777778,
              "#fb9f3a"
             ],
             [
              0.8888888888888888,
              "#fdca26"
             ],
             [
              1,
              "#f0f921"
             ]
            ],
            "type": "heatmap"
           }
          ],
          "heatmapgl": [
           {
            "colorbar": {
             "outlinewidth": 0,
             "ticks": ""
            },
            "colorscale": [
             [
              0,
              "#0d0887"
             ],
             [
              0.1111111111111111,
              "#46039f"
             ],
             [
              0.2222222222222222,
              "#7201a8"
             ],
             [
              0.3333333333333333,
              "#9c179e"
             ],
             [
              0.4444444444444444,
              "#bd3786"
             ],
             [
              0.5555555555555556,
              "#d8576b"
             ],
             [
              0.6666666666666666,
              "#ed7953"
             ],
             [
              0.7777777777777778,
              "#fb9f3a"
             ],
             [
              0.8888888888888888,
              "#fdca26"
             ],
             [
              1,
              "#f0f921"
             ]
            ],
            "type": "heatmapgl"
           }
          ],
          "histogram": [
           {
            "marker": {
             "pattern": {
              "fillmode": "overlay",
              "size": 10,
              "solidity": 0.2
             }
            },
            "type": "histogram"
           }
          ],
          "histogram2d": [
           {
            "colorbar": {
             "outlinewidth": 0,
             "ticks": ""
            },
            "colorscale": [
             [
              0,
              "#0d0887"
             ],
             [
              0.1111111111111111,
              "#46039f"
             ],
             [
              0.2222222222222222,
              "#7201a8"
             ],
             [
              0.3333333333333333,
              "#9c179e"
             ],
             [
              0.4444444444444444,
              "#bd3786"
             ],
             [
              0.5555555555555556,
              "#d8576b"
             ],
             [
              0.6666666666666666,
              "#ed7953"
             ],
             [
              0.7777777777777778,
              "#fb9f3a"
             ],
             [
              0.8888888888888888,
              "#fdca26"
             ],
             [
              1,
              "#f0f921"
             ]
            ],
            "type": "histogram2d"
           }
          ],
          "histogram2dcontour": [
           {
            "colorbar": {
             "outlinewidth": 0,
             "ticks": ""
            },
            "colorscale": [
             [
              0,
              "#0d0887"
             ],
             [
              0.1111111111111111,
              "#46039f"
             ],
             [
              0.2222222222222222,
              "#7201a8"
             ],
             [
              0.3333333333333333,
              "#9c179e"
             ],
             [
              0.4444444444444444,
              "#bd3786"
             ],
             [
              0.5555555555555556,
              "#d8576b"
             ],
             [
              0.6666666666666666,
              "#ed7953"
             ],
             [
              0.7777777777777778,
              "#fb9f3a"
             ],
             [
              0.8888888888888888,
              "#fdca26"
             ],
             [
              1,
              "#f0f921"
             ]
            ],
            "type": "histogram2dcontour"
           }
          ],
          "mesh3d": [
           {
            "colorbar": {
             "outlinewidth": 0,
             "ticks": ""
            },
            "type": "mesh3d"
           }
          ],
          "parcoords": [
           {
            "line": {
             "colorbar": {
              "outlinewidth": 0,
              "ticks": ""
             }
            },
            "type": "parcoords"
           }
          ],
          "pie": [
           {
            "automargin": true,
            "type": "pie"
           }
          ],
          "scatter": [
           {
            "fillpattern": {
             "fillmode": "overlay",
             "size": 10,
             "solidity": 0.2
            },
            "type": "scatter"
           }
          ],
          "scatter3d": [
           {
            "line": {
             "colorbar": {
              "outlinewidth": 0,
              "ticks": ""
             }
            },
            "marker": {
             "colorbar": {
              "outlinewidth": 0,
              "ticks": ""
             }
            },
            "type": "scatter3d"
           }
          ],
          "scattercarpet": [
           {
            "marker": {
             "colorbar": {
              "outlinewidth": 0,
              "ticks": ""
             }
            },
            "type": "scattercarpet"
           }
          ],
          "scattergeo": [
           {
            "marker": {
             "colorbar": {
              "outlinewidth": 0,
              "ticks": ""
             }
            },
            "type": "scattergeo"
           }
          ],
          "scattergl": [
           {
            "marker": {
             "colorbar": {
              "outlinewidth": 0,
              "ticks": ""
             }
            },
            "type": "scattergl"
           }
          ],
          "scattermapbox": [
           {
            "marker": {
             "colorbar": {
              "outlinewidth": 0,
              "ticks": ""
             }
            },
            "type": "scattermapbox"
           }
          ],
          "scatterpolar": [
           {
            "marker": {
             "colorbar": {
              "outlinewidth": 0,
              "ticks": ""
             }
            },
            "type": "scatterpolar"
           }
          ],
          "scatterpolargl": [
           {
            "marker": {
             "colorbar": {
              "outlinewidth": 0,
              "ticks": ""
             }
            },
            "type": "scatterpolargl"
           }
          ],
          "scatterternary": [
           {
            "marker": {
             "colorbar": {
              "outlinewidth": 0,
              "ticks": ""
             }
            },
            "type": "scatterternary"
           }
          ],
          "surface": [
           {
            "colorbar": {
             "outlinewidth": 0,
             "ticks": ""
            },
            "colorscale": [
             [
              0,
              "#0d0887"
             ],
             [
              0.1111111111111111,
              "#46039f"
             ],
             [
              0.2222222222222222,
              "#7201a8"
             ],
             [
              0.3333333333333333,
              "#9c179e"
             ],
             [
              0.4444444444444444,
              "#bd3786"
             ],
             [
              0.5555555555555556,
              "#d8576b"
             ],
             [
              0.6666666666666666,
              "#ed7953"
             ],
             [
              0.7777777777777778,
              "#fb9f3a"
             ],
             [
              0.8888888888888888,
              "#fdca26"
             ],
             [
              1,
              "#f0f921"
             ]
            ],
            "type": "surface"
           }
          ],
          "table": [
           {
            "cells": {
             "fill": {
              "color": "#EBF0F8"
             },
             "line": {
              "color": "white"
             }
            },
            "header": {
             "fill": {
              "color": "#C8D4E3"
             },
             "line": {
              "color": "white"
             }
            },
            "type": "table"
           }
          ]
         },
         "layout": {
          "annotationdefaults": {
           "arrowcolor": "#2a3f5f",
           "arrowhead": 0,
           "arrowwidth": 1
          },
          "autotypenumbers": "strict",
          "coloraxis": {
           "colorbar": {
            "outlinewidth": 0,
            "ticks": ""
           }
          },
          "colorscale": {
           "diverging": [
            [
             0,
             "#8e0152"
            ],
            [
             0.1,
             "#c51b7d"
            ],
            [
             0.2,
             "#de77ae"
            ],
            [
             0.3,
             "#f1b6da"
            ],
            [
             0.4,
             "#fde0ef"
            ],
            [
             0.5,
             "#f7f7f7"
            ],
            [
             0.6,
             "#e6f5d0"
            ],
            [
             0.7,
             "#b8e186"
            ],
            [
             0.8,
             "#7fbc41"
            ],
            [
             0.9,
             "#4d9221"
            ],
            [
             1,
             "#276419"
            ]
           ],
           "sequential": [
            [
             0,
             "#0d0887"
            ],
            [
             0.1111111111111111,
             "#46039f"
            ],
            [
             0.2222222222222222,
             "#7201a8"
            ],
            [
             0.3333333333333333,
             "#9c179e"
            ],
            [
             0.4444444444444444,
             "#bd3786"
            ],
            [
             0.5555555555555556,
             "#d8576b"
            ],
            [
             0.6666666666666666,
             "#ed7953"
            ],
            [
             0.7777777777777778,
             "#fb9f3a"
            ],
            [
             0.8888888888888888,
             "#fdca26"
            ],
            [
             1,
             "#f0f921"
            ]
           ],
           "sequentialminus": [
            [
             0,
             "#0d0887"
            ],
            [
             0.1111111111111111,
             "#46039f"
            ],
            [
             0.2222222222222222,
             "#7201a8"
            ],
            [
             0.3333333333333333,
             "#9c179e"
            ],
            [
             0.4444444444444444,
             "#bd3786"
            ],
            [
             0.5555555555555556,
             "#d8576b"
            ],
            [
             0.6666666666666666,
             "#ed7953"
            ],
            [
             0.7777777777777778,
             "#fb9f3a"
            ],
            [
             0.8888888888888888,
             "#fdca26"
            ],
            [
             1,
             "#f0f921"
            ]
           ]
          },
          "colorway": [
           "#636efa",
           "#EF553B",
           "#00cc96",
           "#ab63fa",
           "#FFA15A",
           "#19d3f3",
           "#FF6692",
           "#B6E880",
           "#FF97FF",
           "#FECB52"
          ],
          "font": {
           "color": "#2a3f5f"
          },
          "geo": {
           "bgcolor": "white",
           "lakecolor": "white",
           "landcolor": "#E5ECF6",
           "showlakes": true,
           "showland": true,
           "subunitcolor": "white"
          },
          "hoverlabel": {
           "align": "left"
          },
          "hovermode": "closest",
          "mapbox": {
           "style": "light"
          },
          "paper_bgcolor": "white",
          "plot_bgcolor": "#E5ECF6",
          "polar": {
           "angularaxis": {
            "gridcolor": "white",
            "linecolor": "white",
            "ticks": ""
           },
           "bgcolor": "#E5ECF6",
           "radialaxis": {
            "gridcolor": "white",
            "linecolor": "white",
            "ticks": ""
           }
          },
          "scene": {
           "xaxis": {
            "backgroundcolor": "#E5ECF6",
            "gridcolor": "white",
            "gridwidth": 2,
            "linecolor": "white",
            "showbackground": true,
            "ticks": "",
            "zerolinecolor": "white"
           },
           "yaxis": {
            "backgroundcolor": "#E5ECF6",
            "gridcolor": "white",
            "gridwidth": 2,
            "linecolor": "white",
            "showbackground": true,
            "ticks": "",
            "zerolinecolor": "white"
           },
           "zaxis": {
            "backgroundcolor": "#E5ECF6",
            "gridcolor": "white",
            "gridwidth": 2,
            "linecolor": "white",
            "showbackground": true,
            "ticks": "",
            "zerolinecolor": "white"
           }
          },
          "shapedefaults": {
           "line": {
            "color": "#2a3f5f"
           }
          },
          "ternary": {
           "aaxis": {
            "gridcolor": "white",
            "linecolor": "white",
            "ticks": ""
           },
           "baxis": {
            "gridcolor": "white",
            "linecolor": "white",
            "ticks": ""
           },
           "bgcolor": "#E5ECF6",
           "caxis": {
            "gridcolor": "white",
            "linecolor": "white",
            "ticks": ""
           }
          },
          "title": {
           "x": 0.05
          },
          "xaxis": {
           "automargin": true,
           "gridcolor": "white",
           "linecolor": "white",
           "ticks": "",
           "title": {
            "standoff": 15
           },
           "zerolinecolor": "white",
           "zerolinewidth": 2
          },
          "yaxis": {
           "automargin": true,
           "gridcolor": "white",
           "linecolor": "white",
           "ticks": "",
           "title": {
            "standoff": 15
           },
           "zerolinecolor": "white",
           "zerolinewidth": 2
          }
         }
        }
       }
      }
     },
     "metadata": {},
     "output_type": "display_data"
    }
   ],
   "source": [
    "import pandas as pd\n",
    "import plotly.express as px\n",
    "\n",
    "# Assuming 'merged_df_unique' is your DataFrame name\n",
    "# First, ensure that 'merged_df_unique' is loaded or prepared correctly\n",
    "# If it's not loaded in this code snippet, replace 'merged_df_unique' with the correct DataFrame variable\n",
    "\n",
    "# Create the 'hover_text' column\n",
    "merged_df_unique['hover_text'] = merged_df_unique.apply(lambda row: f\"Average Sentiment Score: {row['Average Sentiment Score']}\\nAverage Rate: {row['Average Rate']}\\nTop 10 Word Frequencies: {row['Top_10_Word_Frequencies']}\", axis=1)\n",
    "\n",
    "# Now, let's use this 'hover_text' in the Plotly map\n",
    "fig = px.scatter_mapbox(merged_df_unique, lat='latitude', lon='longitude',\n",
    "                        hover_name='hover_text',  # Now 'hover_text' should exist\n",
    "                        color_discrete_sequence=['fuchsia'], zoom=3)\n",
    "fig.update_layout(mapbox_style='open-street-map', autosize=True)\n",
    "\n",
    "# Increase the size of the points\n",
    "fig.update_traces(marker=dict(size=15))\n",
    "\n",
    "file_path = str(PLOT_PATH) + \"/McDonald's location information.html\"\n",
    "# Save the figure as HTML\n",
    "fig.write_html(file_path, full_html=True, auto_open=False, config={\"responsive\": True})\n",
    "\n",
    "fig.show()\n",
    "\n"
   ]
  }
 ],
 "metadata": {
  "kernelspec": {
   "display_name": "Python 3",
   "language": "python",
   "name": "python3"
  },
  "language_info": {
   "codemirror_mode": {
    "name": "ipython",
    "version": 3
   },
   "file_extension": ".py",
   "mimetype": "text/x-python",
   "name": "python",
   "nbconvert_exporter": "python",
   "pygments_lexer": "ipython3",
   "version": "3.11.1"
  }
 },
 "nbformat": 4,
 "nbformat_minor": 2
}
